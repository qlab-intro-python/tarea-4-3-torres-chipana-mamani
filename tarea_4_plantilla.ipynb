{
 "cells": [
  {
   "cell_type": "markdown",
   "metadata": {},
   "source": [
    "# **Tarea Nº 4**"
   ]
  },
  {
   "cell_type": "markdown",
   "metadata": {},
   "source": [
    "- Fecha y hora de entrega: Domingo 12 de enero, 11:59pm\n",
    "- Agregue los nombres de las personas con las que discutió esta tarea: ____ Armando Paredes ______\n",
    "- Envíe su tarea haciendo el `push` de su código a su repo en GitHub Classroom: "
   ]
  },
  {
   "cell_type": "markdown",
   "metadata": {},
   "source": [
    "## **Mercado de autos usados**"
   ]
  },
  {
   "cell_type": "markdown",
   "metadata": {},
   "source": [
    "Importa el conjunto de datos `neoauto_20240924.csv`\n",
    "    "
   ]
  },
  {
   "cell_type": "code",
   "execution_count": 93,
   "metadata": {},
   "outputs": [],
   "source": [
    "import pandas as pd"
   ]
  },
  {
   "cell_type": "code",
   "execution_count": 94,
   "metadata": {},
   "outputs": [],
   "source": [
    "base_prop = pd.read_csv(\"neoauto_20240924.csv\", delimiter=\",\")"
   ]
  },
  {
   "cell_type": "code",
   "execution_count": 95,
   "metadata": {},
   "outputs": [
    {
     "data": {
      "text/html": [
       "<div>\n",
       "<style scoped>\n",
       "    .dataframe tbody tr th:only-of-type {\n",
       "        vertical-align: middle;\n",
       "    }\n",
       "\n",
       "    .dataframe tbody tr th {\n",
       "        vertical-align: top;\n",
       "    }\n",
       "\n",
       "    .dataframe thead th {\n",
       "        text-align: right;\n",
       "    }\n",
       "</style>\n",
       "<table border=\"1\" class=\"dataframe\">\n",
       "  <thead>\n",
       "    <tr style=\"text-align: right;\">\n",
       "      <th></th>\n",
       "      <th>value</th>\n",
       "      <th>item_id</th>\n",
       "      <th>item_price</th>\n",
       "      <th>item_name</th>\n",
       "      <th>item_category</th>\n",
       "      <th>item_category_2</th>\n",
       "      <th>item_brand</th>\n",
       "      <th>item_km</th>\n",
       "      <th>item_year</th>\n",
       "      <th>item_transmission</th>\n",
       "      <th>...</th>\n",
       "      <th>item_location_province</th>\n",
       "      <th>item_tag</th>\n",
       "      <th>item_advertiser</th>\n",
       "      <th>item_credit</th>\n",
       "      <th>item_verified</th>\n",
       "      <th>item_financed_by</th>\n",
       "      <th>santander_price</th>\n",
       "      <th>item_publication_slug</th>\n",
       "      <th>item_publication_type</th>\n",
       "      <th>item_publication_type_Id</th>\n",
       "    </tr>\n",
       "  </thead>\n",
       "  <tbody>\n",
       "    <tr>\n",
       "      <th>0</th>\n",
       "      <td>29200</td>\n",
       "      <td>1807331</td>\n",
       "      <td>29200.0</td>\n",
       "      <td>toyota hilux 2021</td>\n",
       "      <td>autos</td>\n",
       "      <td>Pick Up</td>\n",
       "      <td>TOYOTA</td>\n",
       "      <td>51635.0</td>\n",
       "      <td>2021</td>\n",
       "      <td>Mecánica</td>\n",
       "      <td>...</td>\n",
       "      <td>lima</td>\n",
       "      <td>Como nuevo</td>\n",
       "      <td>Erick Bazán Ubaldo</td>\n",
       "      <td>True</td>\n",
       "      <td>True</td>\n",
       "      <td>Santander</td>\n",
       "      <td>NaN</td>\n",
       "      <td>auto/usado/toyota-hilux-2021-1807331</td>\n",
       "      <td>PREMIUM</td>\n",
       "      <td>25</td>\n",
       "    </tr>\n",
       "    <tr>\n",
       "      <th>1</th>\n",
       "      <td>98500</td>\n",
       "      <td>1807393</td>\n",
       "      <td>98500.0</td>\n",
       "      <td>lexus lx 600 2023</td>\n",
       "      <td>autos</td>\n",
       "      <td>Camionetas Suv</td>\n",
       "      <td>LEXUS</td>\n",
       "      <td>15000.0</td>\n",
       "      <td>2023</td>\n",
       "      <td>Automática - Secuencial</td>\n",
       "      <td>...</td>\n",
       "      <td>lima</td>\n",
       "      <td>Como nuevo</td>\n",
       "      <td>Asesor Gabriel NovoCar</td>\n",
       "      <td>False</td>\n",
       "      <td>True</td>\n",
       "      <td>NaN</td>\n",
       "      <td>NaN</td>\n",
       "      <td>auto/usado/lexus-lx-600-2023-1807393</td>\n",
       "      <td>PREMIUM</td>\n",
       "      <td>25</td>\n",
       "    </tr>\n",
       "    <tr>\n",
       "      <th>2</th>\n",
       "      <td>16800</td>\n",
       "      <td>1739308</td>\n",
       "      <td>17800.0</td>\n",
       "      <td>bmw 520-i 2016</td>\n",
       "      <td>autos</td>\n",
       "      <td>Sedan</td>\n",
       "      <td>BMW</td>\n",
       "      <td>66000.0</td>\n",
       "      <td>2016</td>\n",
       "      <td>Automática - Secuencial</td>\n",
       "      <td>...</td>\n",
       "      <td>lima</td>\n",
       "      <td>Ocasión</td>\n",
       "      <td>Carlos Chauca</td>\n",
       "      <td>True</td>\n",
       "      <td>True</td>\n",
       "      <td>Santander</td>\n",
       "      <td>16800.0</td>\n",
       "      <td>auto/usado/bmw-520-i-2016-1739308</td>\n",
       "      <td>PREMIUM</td>\n",
       "      <td>25</td>\n",
       "    </tr>\n",
       "    <tr>\n",
       "      <th>3</th>\n",
       "      <td>15900</td>\n",
       "      <td>1805714</td>\n",
       "      <td>16900.0</td>\n",
       "      <td>chevrolet captiva 2021</td>\n",
       "      <td>autos</td>\n",
       "      <td>Camionetas Suv</td>\n",
       "      <td>CHEVROLET</td>\n",
       "      <td>40300.0</td>\n",
       "      <td>2021</td>\n",
       "      <td>Automática - Secuencial</td>\n",
       "      <td>...</td>\n",
       "      <td>santa</td>\n",
       "      <td>Premium</td>\n",
       "      <td>Darwin Américo Barrón Pastor</td>\n",
       "      <td>True</td>\n",
       "      <td>True</td>\n",
       "      <td>Santander</td>\n",
       "      <td>15900.0</td>\n",
       "      <td>auto/usado/chevrolet-captiva-2021-1805714</td>\n",
       "      <td>PREMIUM</td>\n",
       "      <td>25</td>\n",
       "    </tr>\n",
       "    <tr>\n",
       "      <th>4</th>\n",
       "      <td>12500</td>\n",
       "      <td>1806332</td>\n",
       "      <td>12500.0</td>\n",
       "      <td>dfsk glory 500 2023</td>\n",
       "      <td>autos</td>\n",
       "      <td>Camionetas Suv</td>\n",
       "      <td>DFSK</td>\n",
       "      <td>33000.0</td>\n",
       "      <td>2023</td>\n",
       "      <td>Mecánica</td>\n",
       "      <td>...</td>\n",
       "      <td>lima</td>\n",
       "      <td>Premium</td>\n",
       "      <td>GORDILLO FERNANDO</td>\n",
       "      <td>True</td>\n",
       "      <td>True</td>\n",
       "      <td>Santander</td>\n",
       "      <td>NaN</td>\n",
       "      <td>auto/usado/dfsk-glory-500-2023-1806332</td>\n",
       "      <td>PREMIUM</td>\n",
       "      <td>25</td>\n",
       "    </tr>\n",
       "    <tr>\n",
       "      <th>...</th>\n",
       "      <td>...</td>\n",
       "      <td>...</td>\n",
       "      <td>...</td>\n",
       "      <td>...</td>\n",
       "      <td>...</td>\n",
       "      <td>...</td>\n",
       "      <td>...</td>\n",
       "      <td>...</td>\n",
       "      <td>...</td>\n",
       "      <td>...</td>\n",
       "      <td>...</td>\n",
       "      <td>...</td>\n",
       "      <td>...</td>\n",
       "      <td>...</td>\n",
       "      <td>...</td>\n",
       "      <td>...</td>\n",
       "      <td>...</td>\n",
       "      <td>...</td>\n",
       "      <td>...</td>\n",
       "      <td>...</td>\n",
       "      <td>...</td>\n",
       "    </tr>\n",
       "    <tr>\n",
       "      <th>4036</th>\n",
       "      <td>18000</td>\n",
       "      <td>1805535</td>\n",
       "      <td>18000.0</td>\n",
       "      <td>mini 5 puertas 2018</td>\n",
       "      <td>autos</td>\n",
       "      <td>Hatchback</td>\n",
       "      <td>MINI</td>\n",
       "      <td>32500.0</td>\n",
       "      <td>2018</td>\n",
       "      <td>Automática</td>\n",
       "      <td>...</td>\n",
       "      <td>lima</td>\n",
       "      <td>NaN</td>\n",
       "      <td>elizabeth arias</td>\n",
       "      <td>True</td>\n",
       "      <td>False</td>\n",
       "      <td>Santander</td>\n",
       "      <td>NaN</td>\n",
       "      <td>auto/usado/mini-5-puertas-2018-1805535</td>\n",
       "      <td>GRATUITO</td>\n",
       "      <td>27</td>\n",
       "    </tr>\n",
       "    <tr>\n",
       "      <th>4037</th>\n",
       "      <td>15000</td>\n",
       "      <td>1805482</td>\n",
       "      <td>16000.0</td>\n",
       "      <td>bmw 120i 2016</td>\n",
       "      <td>autos</td>\n",
       "      <td>Deportivo</td>\n",
       "      <td>BMW</td>\n",
       "      <td>83000.0</td>\n",
       "      <td>2016</td>\n",
       "      <td>Automática - Secuencial</td>\n",
       "      <td>...</td>\n",
       "      <td>lima</td>\n",
       "      <td>NaN</td>\n",
       "      <td>Fabrizio Canales</td>\n",
       "      <td>True</td>\n",
       "      <td>False</td>\n",
       "      <td>Santander</td>\n",
       "      <td>15000.0</td>\n",
       "      <td>auto/usado/bmw-120i-2016-1805482</td>\n",
       "      <td>GRATUITO</td>\n",
       "      <td>27</td>\n",
       "    </tr>\n",
       "    <tr>\n",
       "      <th>4038</th>\n",
       "      <td>9000</td>\n",
       "      <td>1805528</td>\n",
       "      <td>10000.0</td>\n",
       "      <td>volkswagen gol 2022</td>\n",
       "      <td>autos</td>\n",
       "      <td>Sedan</td>\n",
       "      <td>VOLKSWAGEN</td>\n",
       "      <td>43000.0</td>\n",
       "      <td>2022</td>\n",
       "      <td>Mecánica</td>\n",
       "      <td>...</td>\n",
       "      <td>lima</td>\n",
       "      <td>NaN</td>\n",
       "      <td>Mario Toledo Castillo</td>\n",
       "      <td>True</td>\n",
       "      <td>False</td>\n",
       "      <td>Santander</td>\n",
       "      <td>9000.0</td>\n",
       "      <td>auto/usado/volkswagen-gol-2022-1805528</td>\n",
       "      <td>GRATUITO</td>\n",
       "      <td>27</td>\n",
       "    </tr>\n",
       "    <tr>\n",
       "      <th>4039</th>\n",
       "      <td>30500</td>\n",
       "      <td>1805518</td>\n",
       "      <td>31500.0</td>\n",
       "      <td>bmw x5 2016</td>\n",
       "      <td>autos</td>\n",
       "      <td>Camionetas Suv</td>\n",
       "      <td>BMW</td>\n",
       "      <td>32000.0</td>\n",
       "      <td>2016</td>\n",
       "      <td>Automática - Secuencial</td>\n",
       "      <td>...</td>\n",
       "      <td>lima</td>\n",
       "      <td>NaN</td>\n",
       "      <td>SHH Hearne</td>\n",
       "      <td>True</td>\n",
       "      <td>False</td>\n",
       "      <td>Santander</td>\n",
       "      <td>30500.0</td>\n",
       "      <td>auto/usado/bmw-x5-2016-1805518</td>\n",
       "      <td>GRATUITO</td>\n",
       "      <td>27</td>\n",
       "    </tr>\n",
       "    <tr>\n",
       "      <th>4040</th>\n",
       "      <td>5500</td>\n",
       "      <td>1805432</td>\n",
       "      <td>5500.0</td>\n",
       "      <td>suzuki swift 2008</td>\n",
       "      <td>autos</td>\n",
       "      <td>Hatchback</td>\n",
       "      <td>SUZUKI</td>\n",
       "      <td>1600.0</td>\n",
       "      <td>2008</td>\n",
       "      <td>Automática</td>\n",
       "      <td>...</td>\n",
       "      <td>lima</td>\n",
       "      <td>NaN</td>\n",
       "      <td>Susana Patiño</td>\n",
       "      <td>False</td>\n",
       "      <td>False</td>\n",
       "      <td>NaN</td>\n",
       "      <td>NaN</td>\n",
       "      <td>auto/usado/suzuki-swift-2008-1805432</td>\n",
       "      <td>GRATUITO</td>\n",
       "      <td>27</td>\n",
       "    </tr>\n",
       "  </tbody>\n",
       "</table>\n",
       "<p>4041 rows × 23 columns</p>\n",
       "</div>"
      ],
      "text/plain": [
       "      value  item_id  item_price               item_name item_category  \\\n",
       "0     29200  1807331     29200.0       toyota hilux 2021         autos   \n",
       "1     98500  1807393     98500.0       lexus lx 600 2023         autos   \n",
       "2     16800  1739308     17800.0          bmw 520-i 2016         autos   \n",
       "3     15900  1805714     16900.0  chevrolet captiva 2021         autos   \n",
       "4     12500  1806332     12500.0     dfsk glory 500 2023         autos   \n",
       "...     ...      ...         ...                     ...           ...   \n",
       "4036  18000  1805535     18000.0     mini 5 puertas 2018         autos   \n",
       "4037  15000  1805482     16000.0           bmw 120i 2016         autos   \n",
       "4038   9000  1805528     10000.0     volkswagen gol 2022         autos   \n",
       "4039  30500  1805518     31500.0             bmw x5 2016         autos   \n",
       "4040   5500  1805432      5500.0       suzuki swift 2008         autos   \n",
       "\n",
       "     item_category_2  item_brand  item_km  item_year        item_transmission  \\\n",
       "0            Pick Up      TOYOTA  51635.0       2021                 Mecánica   \n",
       "1     Camionetas Suv       LEXUS  15000.0       2023  Automática - Secuencial   \n",
       "2              Sedan         BMW  66000.0       2016  Automática - Secuencial   \n",
       "3     Camionetas Suv   CHEVROLET  40300.0       2021  Automática - Secuencial   \n",
       "4     Camionetas Suv        DFSK  33000.0       2023                 Mecánica   \n",
       "...              ...         ...      ...        ...                      ...   \n",
       "4036       Hatchback        MINI  32500.0       2018               Automática   \n",
       "4037       Deportivo         BMW  83000.0       2016  Automática - Secuencial   \n",
       "4038           Sedan  VOLKSWAGEN  43000.0       2022                 Mecánica   \n",
       "4039  Camionetas Suv         BMW  32000.0       2016  Automática - Secuencial   \n",
       "4040       Hatchback      SUZUKI   1600.0       2008               Automática   \n",
       "\n",
       "      ... item_location_province    item_tag               item_advertiser  \\\n",
       "0     ...                   lima  Como nuevo            Erick Bazán Ubaldo   \n",
       "1     ...                   lima  Como nuevo        Asesor Gabriel NovoCar   \n",
       "2     ...                   lima     Ocasión                 Carlos Chauca   \n",
       "3     ...                  santa     Premium  Darwin Américo Barrón Pastor   \n",
       "4     ...                   lima     Premium             GORDILLO FERNANDO   \n",
       "...   ...                    ...         ...                           ...   \n",
       "4036  ...                   lima         NaN               elizabeth arias   \n",
       "4037  ...                   lima         NaN              Fabrizio Canales   \n",
       "4038  ...                   lima         NaN         Mario Toledo Castillo   \n",
       "4039  ...                   lima         NaN                    SHH Hearne   \n",
       "4040  ...                   lima         NaN                 Susana Patiño   \n",
       "\n",
       "     item_credit item_verified item_financed_by  santander_price  \\\n",
       "0           True          True        Santander              NaN   \n",
       "1          False          True              NaN              NaN   \n",
       "2           True          True        Santander          16800.0   \n",
       "3           True          True        Santander          15900.0   \n",
       "4           True          True        Santander              NaN   \n",
       "...          ...           ...              ...              ...   \n",
       "4036        True         False        Santander              NaN   \n",
       "4037        True         False        Santander          15000.0   \n",
       "4038        True         False        Santander           9000.0   \n",
       "4039        True         False        Santander          30500.0   \n",
       "4040       False         False              NaN              NaN   \n",
       "\n",
       "                          item_publication_slug item_publication_type  \\\n",
       "0          auto/usado/toyota-hilux-2021-1807331               PREMIUM   \n",
       "1          auto/usado/lexus-lx-600-2023-1807393               PREMIUM   \n",
       "2             auto/usado/bmw-520-i-2016-1739308               PREMIUM   \n",
       "3     auto/usado/chevrolet-captiva-2021-1805714               PREMIUM   \n",
       "4        auto/usado/dfsk-glory-500-2023-1806332               PREMIUM   \n",
       "...                                         ...                   ...   \n",
       "4036     auto/usado/mini-5-puertas-2018-1805535              GRATUITO   \n",
       "4037           auto/usado/bmw-120i-2016-1805482              GRATUITO   \n",
       "4038     auto/usado/volkswagen-gol-2022-1805528              GRATUITO   \n",
       "4039             auto/usado/bmw-x5-2016-1805518              GRATUITO   \n",
       "4040       auto/usado/suzuki-swift-2008-1805432              GRATUITO   \n",
       "\n",
       "      item_publication_type_Id  \n",
       "0                           25  \n",
       "1                           25  \n",
       "2                           25  \n",
       "3                           25  \n",
       "4                           25  \n",
       "...                        ...  \n",
       "4036                        27  \n",
       "4037                        27  \n",
       "4038                        27  \n",
       "4039                        27  \n",
       "4040                        27  \n",
       "\n",
       "[4041 rows x 23 columns]"
      ]
     },
     "execution_count": 95,
     "metadata": {},
     "output_type": "execute_result"
    }
   ],
   "source": [
    "base_prop"
   ]
  },
  {
   "cell_type": "markdown",
   "metadata": {},
   "source": [
    "1. ¿Cuál es el precio promedio de los autos de cada marca (`item_brand`) publicados en cada subcategoría (`item_category_2`)?"
   ]
  },
  {
   "cell_type": "code",
   "execution_count": 98,
   "metadata": {},
   "outputs": [
    {
     "data": {
      "text/html": [
       "<div>\n",
       "<style scoped>\n",
       "    .dataframe tbody tr th:only-of-type {\n",
       "        vertical-align: middle;\n",
       "    }\n",
       "\n",
       "    .dataframe tbody tr th {\n",
       "        vertical-align: top;\n",
       "    }\n",
       "\n",
       "    .dataframe thead th {\n",
       "        text-align: right;\n",
       "    }\n",
       "</style>\n",
       "<table border=\"1\" class=\"dataframe\">\n",
       "  <thead>\n",
       "    <tr style=\"text-align: right;\">\n",
       "      <th></th>\n",
       "      <th>item_category_2</th>\n",
       "      <th>item_brand</th>\n",
       "      <th>item_price</th>\n",
       "    </tr>\n",
       "  </thead>\n",
       "  <tbody>\n",
       "    <tr>\n",
       "      <th>0</th>\n",
       "      <td>Camionetas Suv</td>\n",
       "      <td>ASTON MARTIN</td>\n",
       "      <td>229000.000000</td>\n",
       "    </tr>\n",
       "    <tr>\n",
       "      <th>1</th>\n",
       "      <td>Camionetas Suv</td>\n",
       "      <td>AUDI</td>\n",
       "      <td>34602.424242</td>\n",
       "    </tr>\n",
       "    <tr>\n",
       "      <th>2</th>\n",
       "      <td>Camionetas Suv</td>\n",
       "      <td>BAIC</td>\n",
       "      <td>10800.000000</td>\n",
       "    </tr>\n",
       "    <tr>\n",
       "      <th>3</th>\n",
       "      <td>Camionetas Suv</td>\n",
       "      <td>BAIC YINXIANG</td>\n",
       "      <td>8500.000000</td>\n",
       "    </tr>\n",
       "    <tr>\n",
       "      <th>4</th>\n",
       "      <td>Camionetas Suv</td>\n",
       "      <td>BMW</td>\n",
       "      <td>38377.802469</td>\n",
       "    </tr>\n",
       "    <tr>\n",
       "      <th>...</th>\n",
       "      <td>...</td>\n",
       "      <td>...</td>\n",
       "      <td>...</td>\n",
       "    </tr>\n",
       "    <tr>\n",
       "      <th>197</th>\n",
       "      <td>Vans</td>\n",
       "      <td>RAM</td>\n",
       "      <td>8883.333333</td>\n",
       "    </tr>\n",
       "    <tr>\n",
       "      <th>198</th>\n",
       "      <td>Vans</td>\n",
       "      <td>RENAULT</td>\n",
       "      <td>4900.000000</td>\n",
       "    </tr>\n",
       "    <tr>\n",
       "      <th>199</th>\n",
       "      <td>Vans</td>\n",
       "      <td>SUZUKI</td>\n",
       "      <td>11058.333333</td>\n",
       "    </tr>\n",
       "    <tr>\n",
       "      <th>200</th>\n",
       "      <td>Vans</td>\n",
       "      <td>TOYOTA</td>\n",
       "      <td>16080.000000</td>\n",
       "    </tr>\n",
       "    <tr>\n",
       "      <th>201</th>\n",
       "      <td>Vans</td>\n",
       "      <td>VOLKSWAGEN</td>\n",
       "      <td>14350.000000</td>\n",
       "    </tr>\n",
       "  </tbody>\n",
       "</table>\n",
       "<p>202 rows × 3 columns</p>\n",
       "</div>"
      ],
      "text/plain": [
       "    item_category_2     item_brand     item_price\n",
       "0    Camionetas Suv   ASTON MARTIN  229000.000000\n",
       "1    Camionetas Suv           AUDI   34602.424242\n",
       "2    Camionetas Suv           BAIC   10800.000000\n",
       "3    Camionetas Suv  BAIC YINXIANG    8500.000000\n",
       "4    Camionetas Suv            BMW   38377.802469\n",
       "..              ...            ...            ...\n",
       "197            Vans            RAM    8883.333333\n",
       "198            Vans        RENAULT    4900.000000\n",
       "199            Vans         SUZUKI   11058.333333\n",
       "200            Vans         TOYOTA   16080.000000\n",
       "201            Vans     VOLKSWAGEN   14350.000000\n",
       "\n",
       "[202 rows x 3 columns]"
      ]
     },
     "execution_count": 98,
     "metadata": {},
     "output_type": "execute_result"
    }
   ],
   "source": [
    "base_prop.groupby( ['item_category_2','item_brand'], as_index = False ).agg( { \"item_price\": \"mean\" } )"
   ]
  },
  {
   "cell_type": "markdown",
   "metadata": {},
   "source": [
    "2. ¿Cuántos autos tienen más de 100,000 kilómetros (`item_km`) pero un precio (`item_price`) menor al promedio general?"
   ]
  },
  {
   "cell_type": "code",
   "execution_count": 99,
   "metadata": {},
   "outputs": [
    {
     "name": "stdout",
     "output_type": "stream",
     "text": [
      "Hay 497 autos con más de 100,000 km, pero con precio inferior al promedio general.\n"
     ]
    }
   ],
   "source": [
    "mean_price=base_prop['item_price'].mean()\n",
    "filtered_data =base_prop.loc[(base_prop['item_km'] > 100000) & (base_prop['item_price'] < mean_price), ['item_km', 'item_price']]\n",
    "n_autos = filtered_data.shape[0]\n",
    "\n",
    "print(f\"Hay {n_autos} autos con más de 100,000 km, pero con precio inferior al promedio general.\")"
   ]
  },
  {
   "cell_type": "markdown",
   "metadata": {},
   "source": [
    "3. Encuentra el modelo (`item_name`) más caro y el más barato de cada marca (`item_brand`)."
   ]
  },
  {
   "cell_type": "code",
   "execution_count": 103,
   "metadata": {},
   "outputs": [
    {
     "name": "stdout",
     "output_type": "stream",
     "text": [
      "Por marca, los modelos más caros y más baratos son:\n"
     ]
    },
    {
     "data": {
      "text/html": [
       "<div>\n",
       "<style scoped>\n",
       "    .dataframe tbody tr th:only-of-type {\n",
       "        vertical-align: middle;\n",
       "    }\n",
       "\n",
       "    .dataframe tbody tr th {\n",
       "        vertical-align: top;\n",
       "    }\n",
       "\n",
       "    .dataframe thead th {\n",
       "        text-align: right;\n",
       "    }\n",
       "</style>\n",
       "<table border=\"1\" class=\"dataframe\">\n",
       "  <thead>\n",
       "    <tr style=\"text-align: right;\">\n",
       "      <th></th>\n",
       "      <th>Marca</th>\n",
       "      <th>min</th>\n",
       "      <th>max</th>\n",
       "      <th>Modelo más barato</th>\n",
       "      <th>Modelo más caro</th>\n",
       "    </tr>\n",
       "  </thead>\n",
       "  <tbody>\n",
       "    <tr>\n",
       "      <th>0</th>\n",
       "      <td>ALFA-ROMEO</td>\n",
       "      <td>2500.0</td>\n",
       "      <td>8500.0</td>\n",
       "      <td>alfa-romeo alfasud 1982</td>\n",
       "      <td>alfa-romeo 147 2006</td>\n",
       "    </tr>\n",
       "    <tr>\n",
       "      <th>1</th>\n",
       "      <td>ASTON MARTIN</td>\n",
       "      <td>149900.0</td>\n",
       "      <td>229000.0</td>\n",
       "      <td>aston martin db11 2017</td>\n",
       "      <td>aston martin dbx 2021</td>\n",
       "    </tr>\n",
       "    <tr>\n",
       "      <th>2</th>\n",
       "      <td>AUDI</td>\n",
       "      <td>0.0</td>\n",
       "      <td>220000.0</td>\n",
       "      <td>audi a3 sedan 2015</td>\n",
       "      <td>audi rs 6 2024</td>\n",
       "    </tr>\n",
       "    <tr>\n",
       "      <th>3</th>\n",
       "      <td>AUSTIN</td>\n",
       "      <td>1.0</td>\n",
       "      <td>1.0</td>\n",
       "      <td>austin mini cooper 1970</td>\n",
       "      <td>austin mini cooper 1970</td>\n",
       "    </tr>\n",
       "    <tr>\n",
       "      <th>4</th>\n",
       "      <td>BAIC</td>\n",
       "      <td>7500.0</td>\n",
       "      <td>12800.0</td>\n",
       "      <td>baic plus 2018</td>\n",
       "      <td>baic x55 2021</td>\n",
       "    </tr>\n",
       "    <tr>\n",
       "      <th>...</th>\n",
       "      <td>...</td>\n",
       "      <td>...</td>\n",
       "      <td>...</td>\n",
       "      <td>...</td>\n",
       "      <td>...</td>\n",
       "    </tr>\n",
       "    <tr>\n",
       "      <th>68</th>\n",
       "      <td>SWM</td>\n",
       "      <td>14000.0</td>\n",
       "      <td>14000.0</td>\n",
       "      <td>swm g05 pro 2022</td>\n",
       "      <td>swm g05 pro 2022</td>\n",
       "    </tr>\n",
       "    <tr>\n",
       "      <th>69</th>\n",
       "      <td>TOYOTA</td>\n",
       "      <td>0.0</td>\n",
       "      <td>100000.0</td>\n",
       "      <td>toyota land cruiser prado 2011</td>\n",
       "      <td>toyota hilux 2019</td>\n",
       "    </tr>\n",
       "    <tr>\n",
       "      <th>70</th>\n",
       "      <td>TRIUMPH</td>\n",
       "      <td>18900.0</td>\n",
       "      <td>18900.0</td>\n",
       "      <td>triumph tr-7 1971</td>\n",
       "      <td>triumph tr-7 1971</td>\n",
       "    </tr>\n",
       "    <tr>\n",
       "      <th>71</th>\n",
       "      <td>VOLKSWAGEN</td>\n",
       "      <td>0.0</td>\n",
       "      <td>48900.0</td>\n",
       "      <td>volkswagen bora 2015</td>\n",
       "      <td>volkswagen teramont 2023</td>\n",
       "    </tr>\n",
       "    <tr>\n",
       "      <th>72</th>\n",
       "      <td>VOLVO</td>\n",
       "      <td>2100.0</td>\n",
       "      <td>84990.0</td>\n",
       "      <td>volvo 850 turbo 1995</td>\n",
       "      <td>volvo xc-90 2023</td>\n",
       "    </tr>\n",
       "  </tbody>\n",
       "</table>\n",
       "<p>73 rows × 5 columns</p>\n",
       "</div>"
      ],
      "text/plain": [
       "           Marca       min       max               Modelo más barato  \\\n",
       "0     ALFA-ROMEO    2500.0    8500.0         alfa-romeo alfasud 1982   \n",
       "1   ASTON MARTIN  149900.0  229000.0          aston martin db11 2017   \n",
       "2           AUDI       0.0  220000.0              audi a3 sedan 2015   \n",
       "3         AUSTIN       1.0       1.0         austin mini cooper 1970   \n",
       "4           BAIC    7500.0   12800.0                  baic plus 2018   \n",
       "..           ...       ...       ...                             ...   \n",
       "68           SWM   14000.0   14000.0                swm g05 pro 2022   \n",
       "69        TOYOTA       0.0  100000.0  toyota land cruiser prado 2011   \n",
       "70       TRIUMPH   18900.0   18900.0               triumph tr-7 1971   \n",
       "71    VOLKSWAGEN       0.0   48900.0            volkswagen bora 2015   \n",
       "72         VOLVO    2100.0   84990.0            volvo 850 turbo 1995   \n",
       "\n",
       "             Modelo más caro  \n",
       "0        alfa-romeo 147 2006  \n",
       "1      aston martin dbx 2021  \n",
       "2             audi rs 6 2024  \n",
       "3    austin mini cooper 1970  \n",
       "4              baic x55 2021  \n",
       "..                       ...  \n",
       "68          swm g05 pro 2022  \n",
       "69         toyota hilux 2019  \n",
       "70         triumph tr-7 1971  \n",
       "71  volkswagen teramont 2023  \n",
       "72          volvo xc-90 2023  \n",
       "\n",
       "[73 rows x 5 columns]"
      ]
     },
     "metadata": {},
     "output_type": "display_data"
    }
   ],
   "source": [
    "# Solución\n",
    "\n",
    "# Hallamos el item más barato y mas caro por marca\n",
    "precios = base_prop.groupby(\"item_brand\")[\"item_price\"].agg([min, max]).reset_index()\n",
    "precios1 = precios.rename(columns={\"item_brand\": \"Marca\"})\n",
    "print(\"Por marca, los modelos más caros y más baratos son:\")\n",
    "#print(precios1)\n",
    "\n",
    "# Identificamos de qué modelo son los vehículos identificados\n",
    "for index, row in precios1.iterrows():\n",
    "    marca = row[\"Marca\"]\n",
    "    precio_bajo = row[\"min\"]\n",
    "    precio_alto = row[\"max\"]\n",
    "\n",
    "    modelo_min = base_prop[(base_prop[\"item_brand\"] == marca) & (base_prop[\"item_price\"] == precio_bajo)][\"item_name\"].iloc[0]\n",
    "    modelo_max = base_prop[(base_prop[\"item_brand\"] == marca) & (base_prop[\"item_price\"] == precio_alto)][\"item_name\"].iloc[0]\n",
    "\n",
    "    precios1.loc[index, \"Modelo más barato\"] = modelo_min\n",
    "    precios1.loc[index, \"Modelo más caro\"] = modelo_max\n",
    "\n",
    "display(precios1)"
   ]
  },
  {
   "cell_type": "markdown",
   "metadata": {},
   "source": [
    "4. Encuentra las tres marcas con mayor número de autos financiados por Santander (`item_financed_by`). "
   ]
  },
  {
   "cell_type": "code",
   "execution_count": 104,
   "metadata": {},
   "outputs": [
    {
     "data": {
      "text/html": [
       "<div>\n",
       "<style scoped>\n",
       "    .dataframe tbody tr th:only-of-type {\n",
       "        vertical-align: middle;\n",
       "    }\n",
       "\n",
       "    .dataframe tbody tr th {\n",
       "        vertical-align: top;\n",
       "    }\n",
       "\n",
       "    .dataframe thead th {\n",
       "        text-align: right;\n",
       "    }\n",
       "</style>\n",
       "<table border=\"1\" class=\"dataframe\">\n",
       "  <thead>\n",
       "    <tr style=\"text-align: right;\">\n",
       "      <th></th>\n",
       "      <th>item_brand</th>\n",
       "      <th>size</th>\n",
       "    </tr>\n",
       "  </thead>\n",
       "  <tbody>\n",
       "    <tr>\n",
       "      <th>3</th>\n",
       "      <td>BMW</td>\n",
       "      <td>296</td>\n",
       "    </tr>\n",
       "    <tr>\n",
       "      <th>54</th>\n",
       "      <td>TOYOTA</td>\n",
       "      <td>261</td>\n",
       "    </tr>\n",
       "    <tr>\n",
       "      <th>43</th>\n",
       "      <td>NISSAN</td>\n",
       "      <td>228</td>\n",
       "    </tr>\n",
       "  </tbody>\n",
       "</table>\n",
       "</div>"
      ],
      "text/plain": [
       "   item_brand  size\n",
       "3         BMW   296\n",
       "54     TOYOTA   261\n",
       "43     NISSAN   228"
      ]
     },
     "execution_count": 104,
     "metadata": {},
     "output_type": "execute_result"
    }
   ],
   "source": [
    "# Solución\n",
    "financiados=base_prop.loc[base_prop.item_financed_by=='Santander']\n",
    "financiados_por_marca=financiados.groupby('item_brand', as_index=False).size()\n",
    "(financiados_por_marca.sort_values(by='size', ascending=False)).head(3)"
   ]
  },
  {
   "cell_type": "markdown",
   "metadata": {},
   "source": [
    "5. Agrupa las publicaciones por tipo de transmisión (`item_transmission`) y calcula la desviación estándar del precio (`item_price`) para cada tipo.  "
   ]
  },
  {
   "cell_type": "code",
   "execution_count": 105,
   "metadata": {},
   "outputs": [
    {
     "data": {
      "text/html": [
       "<div>\n",
       "<style scoped>\n",
       "    .dataframe tbody tr th:only-of-type {\n",
       "        vertical-align: middle;\n",
       "    }\n",
       "\n",
       "    .dataframe tbody tr th {\n",
       "        vertical-align: top;\n",
       "    }\n",
       "\n",
       "    .dataframe thead th {\n",
       "        text-align: right;\n",
       "    }\n",
       "</style>\n",
       "<table border=\"1\" class=\"dataframe\">\n",
       "  <thead>\n",
       "    <tr style=\"text-align: right;\">\n",
       "      <th></th>\n",
       "      <th>item_transmission</th>\n",
       "      <th>item_price</th>\n",
       "    </tr>\n",
       "  </thead>\n",
       "  <tbody>\n",
       "    <tr>\n",
       "      <th>0</th>\n",
       "      <td>Automática</td>\n",
       "      <td>15332.729048</td>\n",
       "    </tr>\n",
       "    <tr>\n",
       "      <th>1</th>\n",
       "      <td>Automática - Secuencial</td>\n",
       "      <td>22678.641589</td>\n",
       "    </tr>\n",
       "    <tr>\n",
       "      <th>2</th>\n",
       "      <td>Mecánica</td>\n",
       "      <td>8137.122127</td>\n",
       "    </tr>\n",
       "  </tbody>\n",
       "</table>\n",
       "</div>"
      ],
      "text/plain": [
       "         item_transmission    item_price\n",
       "0               Automática  15332.729048\n",
       "1  Automática - Secuencial  22678.641589\n",
       "2                 Mecánica   8137.122127"
      ]
     },
     "execution_count": 105,
     "metadata": {},
     "output_type": "execute_result"
    }
   ],
   "source": [
    "# Solución\n",
    "base_prop.groupby( 'item_transmission', as_index = False ).agg( { \"item_price\": \"std\" } )"
   ]
  },
  {
   "cell_type": "markdown",
   "metadata": {},
   "source": [
    "6. ¿Cuál es el kilometraje promedio de las publicaciones con el tag \"Premium\" y de las publicaciones con el tag \"Como nuevo\"?"
   ]
  },
  {
   "cell_type": "code",
   "execution_count": 106,
   "metadata": {},
   "outputs": [
    {
     "name": "stdout",
     "output_type": "stream",
     "text": [
      "Los autos con el tag Premium tienen un kilometraje promedio de 48400.24 km., mientras que los de tag Como Nuevo tienen un kilometraje promedio de 35963.48 km.\n"
     ]
    }
   ],
   "source": [
    "# Solución\n",
    "df_premium = base_prop.loc[base_prop.item_tag == \"Premium\", :]\n",
    "df_como_nuevo = base_prop.loc[base_prop.item_tag == \"Como nuevo\", :]\n",
    "\n",
    "df_premium_prom = df_premium[\"item_km\"].mean()\n",
    "df_como_nuevo_prom = df_como_nuevo[\"item_km\"].mean()\n",
    "\n",
    "print(f\"Los autos con el tag Premium tienen un kilometraje promedio de {df_premium_prom:.2f} km., mientras que los de tag Como Nuevo tienen un kilometraje promedio de {df_como_nuevo_prom:.2f} km.\")"
   ]
  },
  {
   "cell_type": "markdown",
   "metadata": {},
   "source": [
    "7. ¿Cuáles son las marcas de vehículas para los que todos sus modelos fabricados en los últimos 5 años tienen al menos 5 publicaciones cada una?"
   ]
  },
  {
   "cell_type": "code",
   "execution_count": 107,
   "metadata": {},
   "outputs": [
    {
     "name": "stdout",
     "output_type": "stream",
     "text": [
      "       item_brand  modelos que cumplen  modelos totales\n",
      "0            AUDI                    1               28\n",
      "1             BMW                    8               78\n",
      "2       CHEVROLET                    1               41\n",
      "3            DFSK                    2               12\n",
      "4            FIAT                    1                3\n",
      "5            FORD                    7               39\n",
      "6           HAVAL                    1               12\n",
      "7           HONDA                    2               23\n",
      "8         HYUNDAI                    4               46\n",
      "9            JEEP                    2               28\n",
      "10            KIA                    5               39\n",
      "11          MAZDA                    6               39\n",
      "12  MERCEDES BENZ                    2               62\n",
      "13             MG                    1               15\n",
      "14         NISSAN                    8               45\n",
      "15        PEUGEOT                    1               15\n",
      "16        RENAULT                    2               14\n",
      "17         SUBARU                    4               28\n",
      "18         TOYOTA                   12               58\n",
      "19     VOLKSWAGEN                    6               42\n",
      "20          VOLVO                    2               13\n",
      "\n",
      "Entonces, no hay una sola marca que cumpla con las condiciones solicitadas\n"
     ]
    }
   ],
   "source": [
    "# Solución\n",
    "# Solución\n",
    "\n",
    "#filtramos los ultimos 5 años (no consideramos 2025)\n",
    "\n",
    "last_years = base_prop[(2024 >= base_prop[\"item_year\"]) & (base_prop[\"item_year\"]>=2019)]\n",
    "\n",
    "#contamos cuantas veces aparece cada modelo (por marca)\n",
    "\n",
    "grupo_1 = (last_years.groupby([\"item_brand\", \"item_name\"]).size().reset_index(name=\"conteo\"))\n",
    "\n",
    "#y ahora añadimos la condición de al menos 5 publicaciones por modelo\n",
    "\n",
    "grupo_2 = grupo_1[grupo_1[\"conteo\"] >= 5]\n",
    "\n",
    "#contamos el numero de modelos que cumplen las condiciones, por marca\n",
    "grupo_3 = (\n",
    "    grupo_2.groupby(\"item_brand\")[\"item_name\"]\n",
    "    .nunique()\n",
    "    .reset_index(name=\"modelos que cumplen\")\n",
    ")\n",
    "\n",
    "#y ahora contamos el numero de modelos totales producidos en el periodo dado\n",
    "\n",
    "grupo_4 = (last_years.groupby(\"item_brand\")[\"item_name\"].nunique().reset_index(name=\"modelos totales\"))\n",
    "\n",
    "#unimos los ultimos 2 grupos para identificar qué marcas cumplen la condición\n",
    "\n",
    "resultado = pd.merge(grupo_3, grupo_4, on = \"item_brand\")\n",
    "print(resultado)\n",
    "print()\n",
    "print(\"Entonces, no hay una sola marca que cumpla con las condiciones solicitadas\")"
   ]
  },
  {
   "cell_type": "markdown",
   "metadata": {},
   "source": [
    "## **Evolución económica internacional**"
   ]
  },
  {
   "cell_type": "markdown",
   "metadata": {},
   "source": [
    "Importa el conjunto de datos de la hoja \"Data\" del archivo `pwt1001.xlsx`. El diccionario de variables está disponible en la hoja \"Legend\" del archivo Excel.\n",
    "    "
   ]
  },
  {
   "cell_type": "markdown",
   "metadata": {},
   "source": [
    "1. Calcule el PBI per cápita real ajustado por poder de paridad de compra (PPP). Use la variable de PBI que se calcula por gasto y la población. ¿Cuáles son los 10 países top?"
   ]
  },
  {
   "cell_type": "code",
   "execution_count": null,
   "metadata": {},
   "outputs": [],
   "source": [
    "# Solución"
   ]
  },
  {
   "cell_type": "markdown",
   "metadata": {},
   "source": [
    "2. Genera el ránking de los países con el mayor incremento del PBI per cápita real PPP entre los años 1990 y 2019. ¿Dónde se ubica Perú? Para los países que no tengan información para dichos años, puede utilizar datos provenientes de hasta dos años antes o después"
   ]
  },
  {
   "cell_type": "code",
   "execution_count": null,
   "metadata": {},
   "outputs": [],
   "source": [
    "# Solución"
   ]
  },
  {
   "cell_type": "markdown",
   "metadata": {},
   "source": [
    "3. Para el periodo 2010-2019, calcule el promedio del índice del capital humano. ¿Qué relación existe entre esta variable y el PBI per cápita real PPP calculado previamente? ¿y el número de horas laboradas al año por los trabajadores?"
   ]
  },
  {
   "cell_type": "code",
   "execution_count": null,
   "metadata": {},
   "outputs": [],
   "source": [
    "# Solución"
   ]
  },
  {
   "cell_type": "markdown",
   "metadata": {},
   "source": [
    "4. A partir de la variable del precio de los hogares, calcula los países y los años en los cuales se registró la mayor inflación anual para todo el periodo de tiempo disponible en la base de datos"
   ]
  },
  {
   "cell_type": "code",
   "execution_count": null,
   "metadata": {},
   "outputs": [],
   "source": [
    "# Solución"
   ]
  },
  {
   "cell_type": "markdown",
   "metadata": {},
   "source": [
    "5. ¿Cuáles son los países con la mayor cantidad de missing values en la variable de productividad total de factores a precios corrientes?"
   ]
  },
  {
   "cell_type": "code",
   "execution_count": null,
   "metadata": {},
   "outputs": [],
   "source": [
    "# Solución"
   ]
  },
  {
   "cell_type": "markdown",
   "metadata": {},
   "source": [
    "6.  Agrupa los datos por país y calcula el promedio de las horas trabajadas anuales (avh) y de la educación promedio (hc) para el periodo 2000-2020."
   ]
  },
  {
   "cell_type": "code",
   "execution_count": null,
   "metadata": {},
   "outputs": [],
   "source": [
    "# Solución"
   ]
  },
  {
   "cell_type": "markdown",
   "metadata": {},
   "source": [
    "7.  Genere una variable que ordene a los países según el porcetaje de formación brutal de capital del 2019. Luego, estable diez grupos a manera de deciles. ¿En qué decil se ubica Péru? Vuelva a calcular usando la información de 1990. ¿El Perú se mantiene en el mismo décil o cambia?"
   ]
  },
  {
   "cell_type": "code",
   "execution_count": null,
   "metadata": {},
   "outputs": [],
   "source": [
    "# Solución"
   ]
  },
  {
   "cell_type": "markdown",
   "metadata": {},
   "source": [
    "## **Transacciones Financieras**"
   ]
  },
  {
   "cell_type": "markdown",
   "metadata": {},
   "source": [
    "Importa el conjunto de datos `base_financiera.csv`\n",
    "    "
   ]
  },
  {
   "cell_type": "markdown",
   "metadata": {},
   "source": [
    "8. Filtra todas las transacciones de tipo \"Debit\" en las que el monto sea mayor a 200, y calcula el monto total de esas transacciones. Además, determina cuántos clientes únicos realizaron esas transacciones."
   ]
  },
  {
   "cell_type": "code",
   "execution_count": null,
   "metadata": {},
   "outputs": [],
   "source": [
    "# Solución"
   ]
  },
  {
   "cell_type": "markdown",
   "metadata": {},
   "source": [
    "9. Identifica las transacciones con valores nulos en la columna (`Amount`) . Rellena esos valores con la mediana de los montos por tipo de transacción (`Transaction_Type`) y luego calcula el monto total de transacciones por región (`region`) ."
   ]
  },
  {
   "cell_type": "code",
   "execution_count": null,
   "metadata": {},
   "outputs": [],
   "source": [
    "# Solución"
   ]
  },
  {
   "cell_type": "markdown",
   "metadata": {},
   "source": [
    "10. Busca transacciones duplicadas considerando las columnas (`Customer_ID`) y (`Date`). Elimina los duplicados manteniendo solo la primera ocurrencia. Luego, agrupa las transacciones restantes por (`Customer_ID`) y calcula el monto promedio y la cantidad de transacciones por cliente."
   ]
  },
  {
   "cell_type": "code",
   "execution_count": null,
   "metadata": {},
   "outputs": [],
   "source": [
    "# Solución"
   ]
  }
 ],
 "metadata": {
  "hide_input": false,
  "kernelspec": {
   "display_name": "Python 3 (ipykernel)",
   "language": "python",
   "name": "python3"
  },
  "language_info": {
   "codemirror_mode": {
    "name": "ipython",
    "version": 3
   },
   "file_extension": ".py",
   "mimetype": "text/x-python",
   "name": "python",
   "nbconvert_exporter": "python",
   "pygments_lexer": "ipython3",
   "version": "3.12.7"
  },
  "toc": {
   "base_numbering": 1,
   "nav_menu": {},
   "number_sections": true,
   "sideBar": true,
   "skip_h1_title": false,
   "title_cell": "Table of Contents",
   "title_sidebar": "Contents",
   "toc_cell": false,
   "toc_position": {},
   "toc_section_display": true,
   "toc_window_display": false
  }
 },
 "nbformat": 4,
 "nbformat_minor": 4
}
